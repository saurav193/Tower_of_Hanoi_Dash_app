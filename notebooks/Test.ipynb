{
 "cells": [
  {
   "cell_type": "code",
   "execution_count": 2,
   "metadata": {},
   "outputs": [
    {
     "data": {
      "text/plain": [
       "RendererRegistry.enable('notebook')"
      ]
     },
     "execution_count": 2,
     "metadata": {},
     "output_type": "execute_result"
    }
   ],
   "source": [
    "import altair as alt\n",
    "import pandas as pd\n",
    "import numpy as np\n",
    "\n",
    "alt.renderers.enable('notebook')"
   ]
  },
  {
   "cell_type": "code",
   "execution_count": 60,
   "metadata": {},
   "outputs": [],
   "source": [
    "def chart(disks, tower):\n",
    "    \n",
    "    num_disks = len(disks)\n",
    "    \n",
    "    width = np.zeros(10)\n",
    "\n",
    "    for i in range(1,num_disks+1,1):\n",
    "        width[-i] = disks[i-1]\n",
    "    \n",
    "    source = pd.DataFrame({'y': np.arange(10), 'x': width})\n",
    "\n",
    "    left = alt.Chart(source).encode(\n",
    "        y=alt.Y('y:O', \n",
    "                axis=None),\n",
    "        x=alt.X('x:Q',\n",
    "                title='population',\n",
    "                axis=None,\n",
    "                scale=alt.Scale(domain=(0, 10)),\n",
    "                sort=alt.SortOrder('descending')),\n",
    "    ).mark_bar().properties(width = 100, height = 150)\n",
    "\n",
    "    right = alt.Chart(source).encode(\n",
    "        y=alt.Y('y:O', \n",
    "                axis=None),\n",
    "        x=alt.X('x:Q',\n",
    "                axis=None,\n",
    "                scale=alt.Scale(domain=(0, 10)),\n",
    "                title='population'),\n",
    "    ).mark_bar().properties(width = 100, height = 150)\n",
    "\n",
    "    p1 = alt.concat(left, right, spacing=5).properties(title = tower+\" Tower\").configure_view(\n",
    "    strokeOpacity=0)\n",
    "    \n",
    "    return p1\n"
   ]
  },
  {
   "cell_type": "code",
   "execution_count": 61,
   "metadata": {},
   "outputs": [
    {
     "data": {
      "application/javascript": [
       "const spec = {\"config\": {\"view\": {\"width\": 400, \"height\": 300, \"strokeOpacity\": 0}, \"mark\": {\"tooltip\": null}}, \"concat\": [{\"mark\": \"bar\", \"encoding\": {\"x\": {\"type\": \"quantitative\", \"axis\": null, \"field\": \"x\", \"scale\": {\"domain\": [0, 10]}, \"sort\": \"descending\", \"title\": \"population\"}, \"y\": {\"type\": \"ordinal\", \"axis\": null, \"field\": \"y\"}}, \"height\": 150, \"width\": 100}, {\"mark\": \"bar\", \"encoding\": {\"x\": {\"type\": \"quantitative\", \"axis\": null, \"field\": \"x\", \"scale\": {\"domain\": [0, 10]}, \"title\": \"population\"}, \"y\": {\"type\": \"ordinal\", \"axis\": null, \"field\": \"y\"}}, \"height\": 150, \"width\": 100}], \"data\": {\"name\": \"data-09e228fe2cae9351fb97d6a2ec8861ec\"}, \"spacing\": 5, \"title\": \"Left Tower\", \"$schema\": \"https://vega.github.io/schema/vega-lite/v3.4.0.json\", \"datasets\": {\"data-09e228fe2cae9351fb97d6a2ec8861ec\": [{\"y\": 0, \"x\": 0.0}, {\"y\": 1, \"x\": 0.0}, {\"y\": 2, \"x\": 1.0}, {\"y\": 3, \"x\": 2.0}, {\"y\": 4, \"x\": 3.0}, {\"y\": 5, \"x\": 4.0}, {\"y\": 6, \"x\": 5.0}, {\"y\": 7, \"x\": 6.0}, {\"y\": 8, \"x\": 7.0}, {\"y\": 9, \"x\": 8.0}]}};\n",
       "const opt = {};\n",
       "const type = \"vega-lite\";\n",
       "const id = \"7930132c-b626-4e5b-a61f-e37d46efd249\";\n",
       "\n",
       "const output_area = this;\n",
       "\n",
       "require([\"nbextensions/jupyter-vega/index\"], function(vega) {\n",
       "  const target = document.createElement(\"div\");\n",
       "  target.id = id;\n",
       "  target.className = \"vega-embed\";\n",
       "\n",
       "  const style = document.createElement(\"style\");\n",
       "  style.textContent = [\n",
       "    \".vega-embed .error p {\",\n",
       "    \"  color: firebrick;\",\n",
       "    \"  font-size: 14px;\",\n",
       "    \"}\",\n",
       "  ].join(\"\\\\n\");\n",
       "\n",
       "  // element is a jQuery wrapped DOM element inside the output area\n",
       "  // see http://ipython.readthedocs.io/en/stable/api/generated/\\\n",
       "  // IPython.display.html#IPython.display.Javascript.__init__\n",
       "  element[0].appendChild(target);\n",
       "  element[0].appendChild(style);\n",
       "\n",
       "  vega.render(\"#\" + id, spec, type, opt, output_area);\n",
       "}, function (err) {\n",
       "  if (err.requireType !== \"scripterror\") {\n",
       "    throw(err);\n",
       "  }\n",
       "});\n"
      ],
      "text/plain": [
       "<vega.vegalite.VegaLite at 0x240b4d7f3c8>"
      ]
     },
     "metadata": {
      "jupyter-vega": "#7930132c-b626-4e5b-a61f-e37d46efd249"
     },
     "output_type": "display_data"
    },
    {
     "data": {
      "text/plain": []
     },
     "execution_count": 61,
     "metadata": {},
     "output_type": "execute_result"
    },
    {
     "data": {
      "image/png": "[encoded data removed]"
     },
     "metadata": {
      "jupyter-vega": "#7930132c-b626-4e5b-a61f-e37d46efd249"
     },
     "output_type": "display_data"
    }
   ],
   "source": [
    "chart([8,7,6,5,4,3,2,1], \"Left\")"
   ]
  },
  {
   "cell_type": "code",
   "execution_count": 84,
   "metadata": {},
   "outputs": [
    {
     "data": {
      "text/plain": [
       "array([4., 3., 2., 1.])"
      ]
     },
     "execution_count": 84,
     "metadata": {},
     "output_type": "execute_result"
    }
   ],
   "source": [
    "np.linspace(4,1,4)"
   ]
  },
  {
   "cell_type": "code",
   "execution_count": null,
   "metadata": {},
   "outputs": [],
   "source": []
  }
 ],
 "metadata": {
  "kernelspec": {
   "display_name": "Python 3",
   "language": "python",
   "name": "python3"
  },
  "language_info": {
   "codemirror_mode": {
    "name": "ipython",
    "version": 3
   },
   "file_extension": ".py",
   "mimetype": "text/x-python",
   "name": "python",
   "nbconvert_exporter": "python",
   "pygments_lexer": "ipython3",
   "version": "3.7.3"
  }
 },
 "nbformat": 4,
 "nbformat_minor": 2
}
