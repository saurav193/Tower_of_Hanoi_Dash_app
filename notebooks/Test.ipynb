{
 "cells": [
  {
   "cell_type": "code",
   "execution_count": 31,
   "metadata": {},
   "outputs": [
    {
     "data": {
      "text/plain": [
       "RendererRegistry.enable('notebook')"
      ]
     },
     "execution_count": 31,
     "metadata": {},
     "output_type": "execute_result"
    }
   ],
   "source": [
    "import altair as alt\n",
    "import pandas as pd\n",
    "import numpy as np\n",
    "from vega_datasets import data\n",
    "\n",
    "alt.renderers.enable('notebook')"
   ]
  },
  {
   "cell_type": "code",
   "execution_count": 80,
   "metadata": {},
   "outputs": [],
   "source": [
    "def chart(disks, tower):\n",
    "    \n",
    "    num_disks = len(disks)\n",
    "    \n",
    "    width = np.zeros(num_disks+5)\n",
    "\n",
    "    for i in range(1,num_disks+1,1):\n",
    "        width[-i] = disks[i-1]\n",
    "    \n",
    "    source = pd.DataFrame({'y': np.arange(num_disks+5), 'x': width})\n",
    "\n",
    "    left = alt.Chart(source).encode(\n",
    "        y=alt.Y('y:O', \n",
    "                axis=None),\n",
    "        x=alt.X('x:Q',\n",
    "                title='population',\n",
    "                axis=None,\n",
    "                sort=alt.SortOrder('descending')),\n",
    "    ).mark_bar().properties(width = 100)\n",
    "\n",
    "    right = alt.Chart(source).encode(\n",
    "        y=alt.Y('y:O', \n",
    "                axis=None),\n",
    "        x=alt.X('x:Q',\n",
    "                axis=None,\n",
    "                title='population'),\n",
    "    ).mark_bar().properties(width = 100)\n",
    "\n",
    "    p1 = alt.concat(left, right, spacing=5).properties(title = tower+\" Tower\")\n",
    "    \n",
    "    return p1\n"
   ]
  },
  {
   "cell_type": "code",
   "execution_count": 82,
   "metadata": {},
   "outputs": [
    {
     "data": {
      "application/javascript": [
       "const spec = {\"config\": {\"view\": {\"width\": 400, \"height\": 300}, \"mark\": {\"tooltip\": null}}, \"concat\": [{\"mark\": \"bar\", \"encoding\": {\"x\": {\"type\": \"quantitative\", \"axis\": null, \"field\": \"x\", \"sort\": \"descending\", \"title\": \"population\"}, \"y\": {\"type\": \"ordinal\", \"axis\": null, \"field\": \"y\"}}, \"width\": 100}, {\"mark\": \"bar\", \"encoding\": {\"x\": {\"type\": \"quantitative\", \"axis\": null, \"field\": \"x\", \"title\": \"population\"}, \"y\": {\"type\": \"ordinal\", \"axis\": null, \"field\": \"y\"}}, \"width\": 100}], \"data\": {\"name\": \"data-2024903e0cdcb943cfb6025d5280e278\"}, \"spacing\": 5, \"title\": \"Left Tower\", \"$schema\": \"https://vega.github.io/schema/vega-lite/v3.4.0.json\", \"datasets\": {\"data-2024903e0cdcb943cfb6025d5280e278\": [{\"y\": 0, \"x\": 0.0}, {\"y\": 1, \"x\": 0.0}, {\"y\": 2, \"x\": 0.0}, {\"y\": 3, \"x\": 0.0}, {\"y\": 4, \"x\": 0.0}]}};\n",
       "const opt = {};\n",
       "const type = \"vega-lite\";\n",
       "const id = \"c679489a-8917-4f9b-90bf-b64dfbc59493\";\n",
       "\n",
       "const output_area = this;\n",
       "\n",
       "require([\"nbextensions/jupyter-vega/index\"], function(vega) {\n",
       "  const target = document.createElement(\"div\");\n",
       "  target.id = id;\n",
       "  target.className = \"vega-embed\";\n",
       "\n",
       "  const style = document.createElement(\"style\");\n",
       "  style.textContent = [\n",
       "    \".vega-embed .error p {\",\n",
       "    \"  color: firebrick;\",\n",
       "    \"  font-size: 14px;\",\n",
       "    \"}\",\n",
       "  ].join(\"\\\\n\");\n",
       "\n",
       "  // element is a jQuery wrapped DOM element inside the output area\n",
       "  // see http://ipython.readthedocs.io/en/stable/api/generated/\\\n",
       "  // IPython.display.html#IPython.display.Javascript.__init__\n",
       "  element[0].appendChild(target);\n",
       "  element[0].appendChild(style);\n",
       "\n",
       "  vega.render(\"#\" + id, spec, type, opt, output_area);\n",
       "}, function (err) {\n",
       "  if (err.requireType !== \"scripterror\") {\n",
       "    throw(err);\n",
       "  }\n",
       "});\n"
      ],
      "text/plain": [
       "<vega.vegalite.VegaLite at 0x197da6bc710>"
      ]
     },
     "metadata": {
      "jupyter-vega": "#c679489a-8917-4f9b-90bf-b64dfbc59493"
     },
     "output_type": "display_data"
    },
    {
     "data": {
      "text/plain": []
     },
     "execution_count": 82,
     "metadata": {},
     "output_type": "execute_result"
    },
    {
     "data": {
      "image/png": "[encoded data removed]"
     },
     "metadata": {
      "jupyter-vega": "#c679489a-8917-4f9b-90bf-b64dfbc59493"
     },
     "output_type": "display_data"
    }
   ],
   "source": [
    "chart([], \"Left\")"
   ]
  },
  {
   "cell_type": "code",
   "execution_count": 84,
   "metadata": {},
   "outputs": [
    {
     "data": {
      "text/plain": [
       "array([4., 3., 2., 1.])"
      ]
     },
     "execution_count": 84,
     "metadata": {},
     "output_type": "execute_result"
    }
   ],
   "source": [
    "np.linspace(4,1,4)"
   ]
  },
  {
   "cell_type": "code",
   "execution_count": null,
   "metadata": {},
   "outputs": [],
   "source": []
  }
 ],
 "metadata": {
  "kernelspec": {
   "display_name": "Python 3",
   "language": "python",
   "name": "python3"
  },
  "language_info": {
   "codemirror_mode": {
    "name": "ipython",
    "version": 3
   },
   "file_extension": ".py",
   "mimetype": "text/x-python",
   "name": "python",
   "nbconvert_exporter": "python",
   "pygments_lexer": "ipython3",
   "version": "3.7.3"
  }
 },
 "nbformat": 4,
 "nbformat_minor": 2
}
